{
 "cells": [
  {
   "cell_type": "code",
   "execution_count": 1,
   "metadata": {},
   "outputs": [
    {
     "name": "stdout",
     "output_type": "stream",
     "text": [
      "sagemaker.config INFO - Not applying SDK defaults from location: /opt/homebrew/share/sagemaker/config.yaml\n",
      "sagemaker.config INFO - Not applying SDK defaults from location: /Users/anupam/Library/Application Support/sagemaker/config.yaml\n"
     ]
    }
   ],
   "source": [
    "# Define IAM role\n",
    "import boto3\n",
    "import re\n",
    "import os\n",
    "import sagemaker\n",
    "import json"
   ]
  },
  {
   "cell_type": "code",
   "execution_count": 2,
   "metadata": {},
   "outputs": [
    {
     "name": "stdout",
     "output_type": "stream",
     "text": [
      "sagemaker.config INFO - Not applying SDK defaults from location: /opt/homebrew/share/sagemaker/config.yaml\n",
      "sagemaker.config INFO - Not applying SDK defaults from location: /Users/anupam/Library/Application Support/sagemaker/config.yaml\n"
     ]
    }
   ],
   "source": [
    "sess = sagemaker.Session()\n",
    "config=json.load(open(\"../.keys.json\"))\n",
    "role = config[\"SAGEMAKER_ARN\"] # Also added EC2 access for accessing custom image"
   ]
  },
  {
   "cell_type": "code",
   "execution_count": 3,
   "metadata": {},
   "outputs": [],
   "source": [
    "# Data should be downloaded inside docker container.\n",
    "\n",
    "image = config[\"TRAINING_IMAGE\"]\n",
    "\n",
    "nn_model = sagemaker.estimator.Estimator(\n",
    "    base_job_name=\"nn-model-dummy\",\n",
    "    image_uri=image,\n",
    "    role=role,\n",
    "    instance_count=1,\n",
    "    instance_type=\"ml.m4.xlarge\",\n",
    "    output_path=f\"s3://dataforml/model-training/output\",\n",
    "    sagemaker_session=sess,\n",
    "    input_mode=\"File\",\n",
    "    hyperparameters={\n",
    "        \"epochs\":2\n",
    "    }\n",
    ")"
   ]
  },
  {
   "cell_type": "code",
   "execution_count": 4,
   "metadata": {},
   "outputs": [],
   "source": [
    "training_input=sagemaker.estimator.TrainingInput(s3_data=\"s3://dataforml/preprocessed/\")"
   ]
  },
  {
   "cell_type": "code",
   "execution_count": 6,
   "metadata": {},
   "outputs": [
    {
     "name": "stderr",
     "output_type": "stream",
     "text": [
      "INFO:sagemaker:Creating training-job with name: nn-model-dummy-2023-12-11-15-26-04-693\n"
     ]
    },
    {
     "name": "stdout",
     "output_type": "stream",
     "text": [
      "2023-12-11 15:26:07 Starting - Starting the training job...\n",
      "2023-12-11 15:26:32 Starting - Preparing the instances for training.........\n",
      "2023-12-11 15:28:17 Downloading - Downloading input data...\n",
      "2023-12-11 15:28:40 Training - Downloading the training image............\n",
      "2023-12-11 15:31:32 Uploading - Uploading generated training model[I 2023-12-11 15:31:23,121] A new study created in memory with name: no-name-7b7d383c-1f87-45ae-96d6-da5ff774494a\n",
      "Seed set to 42\n",
      "GPU available: False, used: False\n",
      "TPU available: False, using: 0 TPU cores\n",
      "IPU available: False, using: 0 IPUs\n",
      "HPU available: False, using: 0 HPUs\n",
      "/usr/local/lib/python3.10/dist-packages/lightning/pytorch/trainer/connectors/logger_connector/logger_connector.py:67: Starting from v1.9.0, `tensorboardX` has been removed as a dependency of the `lightning.pytorch` package, due to potential conflicts with other packages in the ML ecosystem. For this reason, `logger=True` will use `CSVLogger` as the default logger, unless the `tensorboard` or `tensorboardX` packages are found. Please `pip install lightning[extra]` or one of them to enable TensorBoard support by default\n",
      "  | Name   | Type       | Params\n",
      "--------------------------------------\n",
      "0 | layers | Sequential | 145   \n",
      "--------------------------------------\n",
      "145       Trainable params\n",
      "0         Non-trainable params\n",
      "145       Total params\n",
      "0.001     Total estimated model params size (MB)\n",
      "2\n",
      "/usr/local/lib/python3.10/dist-packages/torch/utils/data/dataloader.py:554: UserWarning: This DataLoader will create 8 worker processes in total. Our suggested max number of worker in current system is 4, which is smaller than what this DataLoader is going to create. Please be aware that excessive worker creation might get DataLoader running slow or even freeze, lower the worker number to avoid potential slowness/freeze if necessary.\n",
      "  warnings.warn(_create_warning_msg(\n",
      "//code/train.py:70: UserWarning: Using a target size (torch.Size([4])) that is different to the input size (torch.Size([4, 1])). This will likely lead to incorrect results due to broadcasting. Please ensure they have the same size.\n",
      "  loss = self.loss(preds, y)\n",
      "/usr/local/lib/python3.10/dist-packages/lightning/pytorch/loops/fit_loop.py:293: The number of training batches (20) is smaller than the logging interval Trainer(log_every_n_steps=50). Set a lower value for log_every_n_steps if you want to see logs for the training epoch.\n",
      "#015Sanity Checking: |          | 0/? [00:00<?, ?it/s]#015Sanity Checking:   0%|          | 0/2 [00:00<?, ?it/s]#015Sanity Checking DataLoader 0:   0%|          | 0/2 [00:00<?, ?it/s]#015Sanity Checking DataLoader 0:  50%|█████     | 1/2 [00:00<00:00, 76.89it/s]#015Sanity Checking DataLoader 0: 100%|██████████| 2/2 [00:00<00:00, 139.20it/s]#015                                                                            #015#015Training: |          | 0/? [00:00<?, ?it/s]#015Training:   0%|          | 0/20 [00:00<?, ?it/s]#015Epoch 0:   0%|          | 0/20 [00:00<?, ?it/s] #015Epoch 0:   5%|▌         | 1/20 [00:00<00:00, 81.43it/s]#015Epoch 0:   5%|▌         | 1/20 [00:00<00:00, 79.24it/s, v_num=0]#015Epoch 0:  10%|█         | 2/20 [00:00<00:00, 123.81it/s, v_num=0]#015Epoch 0:  10%|█         | 2/20 [00:00<00:00, 121.68it/s, v_num=0]#015Epoch 0:  15%|█▌        | 3/20 [00:00<00:00, 145.59it/s, v_num=0]#015Epoch 0:  15%|█▌        | 3/20 [00:00<00:00, 143.57it/s, v_num=0]#015Epoch 0:  20%|██        | 4/20 [00:00<00:00, 159.46it/s, v_num=0]#015Epoch 0:  20%|██        | 4/20 [00:00<00:00, 157.71it/s, v_num=0]#015Epoch 0:  25%|██▌       | 5/20 [00:00<00:00, 120.81it/s, v_num=0]#015Epoch 0:  25%|██▌       | 5/20 [00:00<00:00, 119.93it/s, v_num=0]#015Epoch 0:  30%|███       | 6/20 [00:00<00:00, 134.59it/s, v_num=0]#015Epoch 0:  30%|███       | 6/20 [00:00<00:00, 133.78it/s, v_num=0]#015Epoch 0:  35%|███▌      | 7/20 [00:00<00:00, 146.63it/s, v_num=0]#015Epoch 0:  35%|███▌      | 7/20 [00:00<00:00, 145.81it/s, v_num=0]#015Epoch 0:  40%|████      | 8/20 [00:00<00:00, 157.35it/s, v_num=0]#015Epoch 0:  40%|████      | 8/20 [00:00<00:00, 156.52it/s, v_num=0]#015Epoch 0:  45%|████▌     | 9/20 [00:00<00:00, 166.96it/s, v_num=0]#015Epoch 0:  45%|████▌     | 9/20 [00:00<00:00, 166.11it/s, v_num=0]#015Epoch 0:  50%|█████     | 10/20 [00:00<00:00, 175.22it/s, v_num=0]#015Epoch 0:  50%|█████     | 10/20 [00:00<00:00, 174.38it/s, v_num=0]#015Epoch 0:  55%|█████▌    | 11/20 [00:00<00:00, 182.64it/s, v_num=0]#015Epoch 0:  55%|█████▌    | 11/20 [00:00<00:00, 181.81it/s, v_num=0]#015Epoch 0:  60%|██████    | 12/20 [00:00<00:00, 189.11it/s, v_num=0]#015Epoch 0:  60%|██████    | 12/20 [00:00<00:00, 188.29it/s, v_num=0]#015Epoch 0:  65%|██████▌   | 13/20 [00:00<00:00, 192.15it/s, v_num=0]#015Epoch 0:  65%|██████▌   | 13/20 [00:00<00:00, 191.36it/s, v_num=0]#015Epoch 0:  70%|███████   | 14/20 [00:00<00:00, 197.75it/s, v_num=0]#015Epoch 0:  70%|███████   | 14/20 [00:00<00:00, 196.97it/s, v_num=0]#015Epoch 0:  75%|███████▌  | 15/20 [00:00<00:00, 202.95it/s, v_num=0]#015Epoch 0:  75%|███████▌  | 15/20 [00:00<00:00, 202.19it/s, v_num=0]#015Epoch 0:  80%|████████  | 16/20 [00:00<00:00, 207.75it/s, v_num=0]#015Epoch 0:  80%|████████  | 16/20 [00:00<00:00, 207.02it/s, v_num=0]#015Epoch 0:  85%|████████▌ | 17/20 [00:00<00:00, 212.14it/s, v_num=0]#015Epoch 0:  85%|████████▌ | 17/20 [00:00<00:00, 211.42it/s, v_num=0]#015Epoch 0:  90%|█████████ | 18/20 [00:00<00:00, 216.18it/s, v_num=0]#015Epoch 0:  90%|█████████ | 18/20 [00:00<00:00, 215.47it/s, v_num=0]#015Epoch 0:  95%|█████████▌| 19/20 [00:00<00:00, 216.97it/s, v_num=0]#015Epoch 0:  95%|█████████▌| 19/20 [00:00<00:00, 216.29it/s, v_num=0]#015Epoch 0: 100%|██████████| 20/20 [00:00<00:00, 217.91it/s, v_num=0]#015Epoch 0: 100%|██████████| 20/20 [00:00<00:00, 217.21it/s, v_num=0]\n",
      "#015Validation: |          | 0/? [00:00<?, ?it/s]#033[A\n",
      "#015Validation:   0%|          | 0/3 [00:00<?, ?it/s]#033[A\n",
      "#015Validation DataLoader 0:   0%|          | 0/3 [00:00<?, ?it/s]#033[A\n",
      "#015Validation DataLoader 0:  33%|███▎      | 1/3 [00:00<00:00, 390.79it/s]#033[A\n",
      "//code/train.py:70: UserWarning: Using a target size (torch.Size([2])) that is different to the input size (torch.Size([2, 1])). This will likely lead to incorrect results due to broadcasting. Please ensure they have the same size.\n",
      "  loss = self.loss(preds, y)\n",
      "#015Validation DataLoader 0:  67%|██████▋   | 2/3 [00:00<00:00, 486.66it/s]#033[A\n",
      "#015Validation DataLoader 0: 100%|██████████| 3/3 [00:00<00:00, 415.55it/s]#033[A\n",
      "#015                                                                       #033[A#015Epoch 0: 100%|██████████| 20/20 [00:00<00:00, 102.88it/s, v_num=0]#015Epoch 0: 100%|██████████| 20/20 [00:00<00:00, 102.41it/s, v_num=0]#015Epoch 0:   0%|          | 0/20 [00:00<?, ?it/s, v_num=0]          #015Epoch 1:   0%|          | 0/20 [00:00<?, ?it/s, v_num=0]#015Epoch 1:   5%|▌         | 1/20 [00:00<00:01, 10.63it/s, v_num=0]#015Epoch 1:   5%|▌         | 1/20 [00:00<00:01, 10.58it/s, v_num=0]#015Epoch 1:  10%|█         | 2/20 [00:00<00:00, 20.19it/s, v_num=0]#015Epoch 1:  10%|█         | 2/20 [00:00<00:00, 20.14it/s, v_num=0]#015Epoch 1:  15%|█▌        | 3/20 [00:00<00:00, 28.94it/s, v_num=0]#015Epoch 1:  15%|█▌        | 3/20 [00:00<00:00, 28.87it/s, v_num=0]#015Epoch 1:  20%|██        | 4/20 [00:00<00:00, 36.94it/s, v_num=0]#015Epoch 1:  20%|██        | 4/20 [00:00<00:00, 36.85it/s, v_num=0]#015Epoch 1:  25%|██▌       | 5/20 [00:00<00:00, 40.50it/s, v_num=0]#015Epoch 1:  25%|██▌       | 5/20 [00:00<00:00, 40.42it/s, v_num=0]#015Epoch 1:  30%|███       | 6/20 [00:00<00:00, 47.42it/s, v_num=0]#015Epoch 1:  30%|███       | 6/20 [00:00<00:00, 47.32it/s, v_num=0]#015Epoch 1:  35%|███▌      | 7/20 [00:00<00:00, 54.03it/s, v_num=0]#015Epoch 1:  35%|███▌      | 7/20 [00:00<00:00, 53.92it/s, v_num=0]#015Epoch 1:  40%|████      | 8/20 [00:00<00:00, 60.36it/s, v_num=0]#015Epoch 1:  40%|████      | 8/20 [00:00<00:00, 60.24it/s, v_num=0]#015Epoch 1:  45%|████▌     | 9/20 [00:00<00:00, 66.40it/s, v_num=0]#015Epoch 1:  45%|████▌     | 9/20 [00:00<00:00, 66.28it/s, v_num=0]#015Epoch 1:  50%|█████     | 10/20 [00:00<00:00, 72.12it/s, v_num=0]#015Epoch 1:  50%|█████     | 10/20 [00:00<00:00, 71.99it/s, v_num=0]#015Epoch 1:  55%|█████▌    | 11/20 [00:00<00:00, 77.66it/s, v_num=0]#015Epoch 1:  55%|█████▌    | 11/20 [00:00<00:00, 77.52it/s, v_num=0]#015Epoch 1:  60%|██████    | 12/20 [00:00<00:00, 82.93it/s, v_num=0]#015Epoch 1:  60%|██████    | 12/20 [00:00<00:00, 82.78it/s, v_num=0]#015Epoch 1:  65%|██████▌   | 13/20 [00:00<00:00, 87.37it/s, v_num=0]#015Epoch 1:  65%|██████▌   | 13/20 [00:00<00:00, 87.20it/s, v_num=0]#015Epoch 1:  70%|███████   | 14/20 [00:00<00:00, 92.23it/s, v_num=0]#015Epoch 1:  70%|███████   | 14/20 [00:00<00:00, 92.08it/s, v_num=0]#015Epoch 1:  75%|███████▌  | 15/20 [00:00<00:00, 96.90it/s, v_num=0]#015Epoch 1:  75%|███████▌  | 15/20 [00:00<00:00, 96.74it/s, v_num=0]#015Epoch 1:  80%|████████  | 16/20 [00:00<00:00, 101.40it/s, v_num=0]#015Epoch 1:  80%|████████  | 16/20 [00:00<00:00, 101.23it/s, v_num=0]#015Epoch 1:  85%|████████▌ | 17/20 [00:00<00:00, 104.98it/s, v_num=0]#015Epoch 1:  85%|████████▌ | 17/20 [00:00<00:00, 104.80it/s, v_num=0]#015Epoch 1:  90%|█████████ | 18/20 [00:00<00:00, 108.41it/s, v_num=0]#015Epoch 1:  90%|█████████ | 18/20 [00:00<00:00, 108.24it/s, v_num=0]#015Epoch 1:  95%|█████████▌| 19/20 [00:00<00:00, 111.74it/s, v_num=0]#015Epoch 1:  95%|█████████▌| 19/20 [00:00<00:00, 111.57it/s, v_num=0]#015Epoch 1: 100%|██████████| 20/20 [00:00<00:00, 114.80it/s, v_num=0]#015Epoch 1: 100%|██████████| 20/20 [00:00<00:00, 114.63it/s, v_num=0]\n",
      "#015Validation: |          | 0/? [00:00<?, ?it/s]#033[A\n",
      "#015Validation:   0%|          | 0/3 [00:00<?, ?it/s]#033[A\n",
      "#015Validation DataLoader 0:   0%|          | 0/3 [00:00<?, ?it/s]#033[A\n",
      "#015Validation DataLoader 0:  33%|███▎      | 1/3 [00:00<00:00, 461.93it/s]#033[A\n",
      "#015Validation DataLoader 0:  67%|██████▋   | 2/3 [00:00<00:00, 413.23it/s]#033[A\n",
      "#015Validation DataLoader 0: 100%|██████████| 3/3 [00:00<00:00, 409.32it/s]#033[A\n",
      "#015                                                                       #033[A#015Epoch 1: 100%|██████████| 20/20 [00:00<00:00, 74.16it/s, v_num=0] #015Epoch 1: 100%|██████████| 20/20 [00:00<00:00, 73.96it/s, v_num=0]#015Epoch 1:   0%|          | 0/20 [00:00<?, ?it/s, v_num=0]         #015Epoch 2:   0%|          | 0/20 [00:00<?, ?it/s, v_num=0]#015Epoch 2:   5%|▌         | 1/20 [00:00<00:01, 11.15it/s, v_num=0]#015Epoch 2:   5%|▌         | 1/20 [00:00<00:01, 11.09it/s, v_num=0]#015Epoch 2:  10%|█         | 2/20 [00:00<00:00, 19.06it/s, v_num=0]#015Epoch 2:  10%|█         | 2/20 [00:00<00:00, 19.01it/s, v_num=0]#015Epoch 2:  15%|█▌        | 3/20 [00:00<00:00, 27.70it/s, v_num=0]#015Epoch 2:  15%|█▌        | 3/20 [00:00<00:00, 27.63it/s, v_num=0]#015Epoch 2:  20%|██        | 4/20 [00:00<00:00, 35.79it/s, v_num=0]#015Epoch 2:  20%|██        | 4/20 [00:00<00:00, 35.71it/s, v_num=0]#015Epoch 2:  25%|██▌       | 5/20 [00:00<00:00, 43.53it/s, v_num=0]#015Epoch 2:  25%|██▌       | 5/20 [00:00<00:00, 43.43it/s, v_num=0]#015Epoch 2:  30%|███       | 6/20 [00:00<00:00, 50.83it/s, v_num=0]#015Epoch 2:  30%|███       | 6/20 [00:00<00:00, 50.72it/s, v_num=0]#015Epoch 2:  35%|███▌      | 7/20 [00:00<00:00, 56.63it/s, v_num=0]#015Epoch 2:  35%|███▌      | 7/20 [00:00<00:00, 56.51it/s, v_num=0]#015Epoch 2:  40%|████      | 8/20 [00:00<00:00, 61.93it/s, v_num=0]#015Epoch 2:  40%|████      | 8/20 [00:00<00:00, 61.80it/s, v_num=0]#015Epoch 2:  45%|████▌     | 9/20 [00:00<00:00, 68.10it/s, v_num=0]#015Epoch 2:  45%|████▌     | 9/20 [00:00<00:00, 67.96it/s, v_num=0]#015Epoch 2:  50%|█████     | 10/20 [00:00<00:00, 73.98it/s, v_num=0]#015Epoch 2:  50%|█████     | 10/20 [00:00<00:00, 73.83it/s, v_num=0]#015Epoch 2:  55%|█████▌    | 11/20 [00:00<00:00, 79.60it/s, v_num=0]#015Epoch 2:  55%|█████▌    | 11/20 [00:00<00:00, 79.45it/s, v_num=0]#015Epoch 2:  60%|██████    | 12/20 [00:00<00:00, 84.94it/s, v_num=0]#015Epoch 2:  60%|██████    | 12/20 [00:00<00:00, 84.78it/s, v_num=0]#015Epoch 2:  65%|██████▌   | 13/20 [00:00<00:00, 90.11it/s, v_num=0]#015Epoch 2:  65%|██████▌   | 13/20 [00:00<00:00, 89.94it/s, v_num=0]#015Epoch 2:  70%|███████   | 14/20 [00:00<00:00, 94.98it/s, v_num=0]#015Epoch 2:  70%|███████   | 14/20 [00:00<00:00, 94.81it/s, v_num=0]#015Epoch 2:  75%|███████▌  | 15/20 [00:00<00:00, 99.73it/s, v_num=0]#015Epoch 2:  75%|███████▌  | 15/20 [00:00<00:00, 99.55it/s, v_num=0]#015Epoch 2:  80%|████████  | 16/20 [00:00<00:00, 103.38it/s, v_num=0]#015Epoch 2:  80%|████████  | 16/20 [00:00<00:00, 103.21it/s, v_num=0]#015Epoch 2:  85%|████████▌ | 17/20 [00:00<00:00, 106.72it/s, v_num=0]#015Epoch 2:  85%|████████▌ | 17/20 [00:00<00:00, 106.54it/s, v_num=0]#015Epoch 2:  90%|█████████ | 18/20 [00:00<00:00, 110.03it/s, v_num=0]#015Epoch 2:  90%|█████████ | 18/20 [00:00<00:00, 109.85it/s, v_num=0]#015Epoch 2:  95%|█████████▌| 19/20 [00:00<00:00, 113.15it/s, v_num=0]#015Epoch 2:  95%|█████████▌| 19/20 [00:00<00:00, 112.96it/s, v_num=0]#015Epoch 2: 100%|██████████| 20/20 [00:00<00:00, 116.01it/s, v_num=0]#015Epoch 2: 100%|██████████| 20/20 [00:00<00:00, 115.81it/s, v_num=0]\n",
      "#015Validation: |          | 0/? [00:00<?, ?it/s]#033[A\n",
      "#015Validation:   0%|          | 0/3 [00:00<?, ?it/s]#033[A\n",
      "#015Validation DataLoader 0:   0%|          | 0/3 [00:00<?, ?it/s]#033[A\n",
      "#015Validation DataLoader 0:  33%|███▎      | 1/3 [00:00<00:00, 467.02it/s]#033[A\n",
      "#015Validation DataLoader 0:  67%|██████▋   | 2/3 [00:00<00:00, 407.49it/s]#033[A\n",
      "#015Validation DataLoader 0: 100%|██████████| 3/3 [00:00<00:00, 405.23it/s]#033[A\n",
      "`Trainer.fit` stopped: `max_epochs=3` reached.\n",
      "[I 2023-12-11 15:31:24,185] Trial 0 finished with value: 9486.560546875 and parameters: {'n_layers': 3, 'dropout': 0.2869804413167727, 'learning_rate': 0.07225264479547351, 'n_units_l0': 4, 'n_units_l1': 11, 'n_units_l2': 5}. Best is trial 0 with value: 9486.560546875.\n",
      "Seed set to 42\n",
      "GPU available: False, used: False\n",
      "TPU available: False, using: 0 TPU cores\n",
      "IPU available: False, using: 0 IPUs\n",
      "HPU available: False, using: 0 HPUs\n",
      "  | Name   | Type       | Params\n",
      "--------------------------------------\n",
      "0 | layers | Sequential | 71    \n",
      "--------------------------------------\n",
      "71        Trainable params\n",
      "0         Non-trainable params\n",
      "71        Total params\n",
      "0.000     Total estimated model params size (MB)\n",
      "#015                                                                       #033[A#015Epoch 2: 100%|██████████| 20/20 [00:00<00:00, 77.07it/s, v_num=0] #015Epoch 2: 100%|██████████| 20/20 [00:00<00:00, 76.84it/s, v_num=0]#015Epoch 2: 100%|██████████| 20/20 [00:00<00:00, 76.22it/s, v_num=0]\n",
      "#015Sanity Checking: |          | 0/? [00:00<?, ?it/s]#015Sanity Checking:   0%|          | 0/2 [00:00<?, ?it/s]#015Sanity Checking DataLoader 0:   0%|          | 0/2 [00:00<?, ?it/s]#015Sanity Checking DataLoader 0:  50%|█████     | 1/2 [00:00<00:00, 252.78it/s]#015Sanity Checking DataLoader 0: 100%|██████████| 2/2 [00:00<00:00, 303.92it/s]#015                                                                            #015#015Training: |          | 0/? [00:00<?, ?it/s]#015Training:   0%|          | 0/20 [00:00<?, ?it/s]#015Epoch 0:   0%|          | 0/20 [00:00<?, ?it/s] #015Epoch 0:   5%|▌         | 1/20 [00:00<00:00, 100.64it/s]#015Epoch 0:   5%|▌         | 1/20 [00:00<00:00, 97.03it/s, v_num=1]#015Epoch 0:  10%|█         | 2/20 [00:00<00:00, 139.20it/s, v_num=1]#015Epoch 0:  10%|█         | 2/20 [00:00<00:00, 136.83it/s, v_num=1]#015Epoch 0:  15%|█▌        | 3/20 [00:00<00:00, 162.23it/s, v_num=1]#015Epoch 0:  15%|█▌        | 3/20 [00:00<00:00, 160.05it/s, v_num=1]#015Epoch 0:  20%|██        | 4/20 [00:00<00:00, 178.70it/s, v_num=1]#015Epoch 0:  20%|██        | 4/20 [00:00<00:00, 176.70it/s, v_num=1]#015Epoch 0:  25%|██▌       | 5/20 [00:00<00:00, 123.98it/s, v_num=1]#015Epoch 0:  25%|██▌       | 5/20 [00:00<00:00, 123.19it/s, v_num=1]#015Epoch 0:  30%|███       | 6/20 [00:00<00:00, 139.87it/s, v_num=1]#015Epoch 0:  30%|███       | 6/20 [00:00<00:00, 139.05it/s, v_num=1]#015Epoch 0:  35%|███▌      | 7/20 [00:00<00:00, 154.20it/s, v_num=1]#015Epoch 0:  35%|███▌      | 7/20 [00:00<00:00, 153.34it/s, v_num=1]#015Epoch 0:  40%|████      | 8/20 [00:00<00:00, 167.18it/s, v_num=1]#015Epoch 0:  40%|████      | 8/20 [00:00<00:00, 166.30it/s, v_num=1]#015Epoch 0:  45%|████▌     | 9/20 [00:00<00:00, 178.64it/s, v_num=1]#015Epoch 0:  45%|████▌     | 9/20 [00:00<00:00, 177.75it/s, v_num=1]#015Epoch 0:  50%|█████     | 10/20 [00:00<00:00, 189.42it/s, v_num=1]#015Epoch 0:  50%|█████     | 10/20 [00:00<00:00, 188.53it/s, v_num=1]#015Epoch 0:  55%|█████▌    | 11/20 [00:00<00:00, 199.15it/s, v_num=1]#015Epoch 0:  55%|█████▌    | 11/20 [00:00<00:00, 198.24it/s, v_num=1]#015Epoch 0:  60%|██████    | 12/20 [00:00<00:00, 208.01it/s, v_num=1]#015Epoch 0:  60%|██████    | 12/20 [00:00<00:00, 206.96it/s, v_num=1]#015Epoch 0:  65%|██████▌   | 13/20 [00:00<00:00, 211.93it/s, v_num=1]#015Epoch 0:  65%|██████▌   | 13/20 [00:00<00:00, 211.06it/s, v_num=1]#015Epoch 0:  70%|███████   | 14/20 [00:00<00:00, 219.43it/s, v_num=1]#015Epoch 0:  70%|███████   | 14/20 [00:00<00:00, 218.57it/s, v_num=1]#015Epoch 0:  75%|███████▌  | 15/20 [00:00<00:00, 226.31it/s, v_num=1]#015Epoch 0:  75%|███████▌  | 15/20 [00:00<00:00, 225.44it/s, v_num=1]#015Epoch 0:  80%|████████  | 16/20 [00:00<00:00, 232.81it/s, v_num=1]#015Epoch 0:  80%|████████  | 16/20 [00:00<00:00, 231.95it/s, v_num=1]#015Epoch 0:  85%|████████▌ | 17/20 [00:00<00:00, 238.71it/s, v_num=1]#015Epoch 0:  85%|████████▌ | 17/20 [00:00<00:00, 237.87it/s, v_num=1]#015Epoch 0:  90%|█████████ | 18/20 [00:00<00:00, 244.44it/s, v_num=1]#015Epoch 0:  90%|█████████ | 18/20 [00:00<00:00, 243.46it/s, v_num=1]#015Epoch 0:  95%|█████████▌| 19/20 [00:00<00:00, 249.68it/s, v_num=1]#015Epoch 0:  95%|█████████▌| 19/20 [00:00<00:00, 248.86it/s, v_num=1]#015Epoch 0: 100%|██████████| 20/20 [00:00<00:00, 254.60it/s, v_num=1]#015Epoch 0: 100%|██████████| 20/20 [00:00<00:00, 253.79it/s, v_num=1]\n",
      "#015Validation: |          | 0/? [00:00<?, ?it/s]#033[A\n",
      "#015Validation:   0%|          | 0/3 [00:00<?, ?it/s]#033[A\n",
      "#015Validation DataLoader 0:   0%|          | 0/3 [00:00<?, ?it/s]#033[A\n",
      "#015Validation DataLoader 0:  33%|███▎      | 1/3 [00:00<00:00, 481.94it/s]#033[A\n",
      "#015Validation DataLoader 0:  67%|██████▋   | 2/3 [00:00<00:00, 444.64it/s]#033[A\n",
      "#015Validation DataLoader 0: 100%|██████████| 3/3 [00:00<00:00, 425.34it/s]#033[A\n",
      "#015                                                                       #033[A#015Epoch 0: 100%|██████████| 20/20 [00:00<00:00, 108.90it/s, v_num=1]#015Epoch 0: 100%|██████████| 20/20 [00:00<00:00, 108.48it/s, v_num=1]#015Epoch 0:   0%|          | 0/20 [00:00<?, ?it/s, v_num=1]          #015Epoch 1:   0%|          | 0/20 [00:00<?, ?it/s, v_num=1]#015Epoch 1:   5%|▌         | 1/20 [00:00<00:01, 10.61it/s, v_num=1]#015Epoch 1:   5%|▌         | 1/20 [00:00<00:01, 10.56it/s, v_num=1]#015Epoch 1:  10%|█         | 2/20 [00:00<00:00, 20.24it/s, v_num=1]#015Epoch 1:  10%|█         | 2/20 [00:00<00:00, 20.19it/s, v_num=1]#015Epoch 1:  15%|█▌        | 3/20 [00:00<00:00, 28.31it/s, v_num=1]#015Epoch 1:  15%|█▌        | 3/20 [00:00<00:00, 28.22it/s, v_num=1]#015Epoch 1:  20%|██        | 4/20 [00:00<00:00, 36.75it/s, v_num=1]#015Epoch 1:  20%|██        | 4/20 [00:00<00:00, 36.66it/s, v_num=1]#015Epoch 1:  25%|██▌       | 5/20 [00:00<00:00, 44.87it/s, v_num=1]#015Epoch 1:  25%|██▌       | 5/20 [00:00<00:00, 44.76it/s, v_num=1]#015Epoch 1:  30%|███       | 6/20 [00:00<00:00, 50.43it/s, v_num=1]#015Epoch 1:  30%|███       | 6/20 [00:00<00:00, 50.32it/s, v_num=1]#015Epoch 1:  35%|███▌      | 7/20 [00:00<00:00, 55.44it/s, v_num=1]#015Epoch 1:  35%|███▌      | 7/20 [00:00<00:00, 55.32it/s, v_num=1]#015Epoch 1:  40%|████      | 8/20 [00:00<00:00, 62.07it/s, v_num=1]#015Epoch 1:  40%|████      | 8/20 [00:00<00:00, 61.94it/s, v_num=1]#015Epoch 1:  45%|████▌     | 9/20 [00:00<00:00, 68.47it/s, v_num=1]#015Epoch 1:  45%|████▌     | 9/20 [00:00<00:00, 68.33it/s, v_num=1]#015Epoch 1:  50%|█████     | 10/20 [00:00<00:00, 74.65it/s, v_num=1]#015Epoch 1:  50%|█████     | 10/20 [00:00<00:00, 74.51it/s, v_num=1]#015Epoch 1:  55%|█████▌    | 11/20 [00:00<00:00, 80.50it/s, v_num=1]#015Epoch 1:  55%|█████▌    | 11/20 [00:00<00:00, 80.35it/s, v_num=1]#015Epoch 1:  60%|██████    | 12/20 [00:00<00:00, 86.23it/s, v_num=1]#015Epoch 1:  60%|██████    | 12/20 [00:00<00:00, 86.05it/s, v_num=1]#015Epoch 1:  65%|██████▌   | 13/20 [00:00<00:00, 91.74it/s, v_num=1]#015Epoch 1:  65%|██████▌   | 13/20 [00:00<00:00, 91.57it/s, v_num=1]#015Epoch 1:  70%|███████   | 14/20 [00:00<00:00, 97.04it/s, v_num=1]#015Epoch 1:  70%|███████   | 14/20 [00:00<00:00, 96.86it/s, v_num=1]#015Epoch 1:  75%|███████▌  | 15/20 [00:00<00:00, 101.40it/s, v_num=1]#015Epoch 1:  75%|███████▌  | 15/20 [00:00<00:00, 101.21it/s, v_num=1]#015Epoch 1:  80%|████████  | 16/20 [00:00<00:00, 106.33it/s, v_num=1]#015Epoch 1:  80%|████████  | 16/20 [00:00<00:00, 106.14it/s, v_num=1]#015Epoch 1:  85%|████████▌ | 17/20 [00:00<00:00, 110.32it/s, v_num=1]#015Epoch 1:  85%|████████▌ | 17/20 [00:00<00:00, 110.13it/s, v_num=1]#015Epoch 1:  90%|█████████ | 18/20 [00:00<00:00, 114.14it/s, v_num=1]#015Epoch 1:  90%|█████████ | 18/20 [00:00<00:00, 113.95it/s, v_num=1]#015Epoch 1:  95%|█████████▌| 19/20 [00:00<00:00, 117.66it/s, v_num=1]#015Epoch 1:  95%|█████████▌| 19/20 [00:00<00:00, 117.46it/s, v_num=1]#015Epoch 1: 100%|██████████| 20/20 [00:00<00:00, 121.06it/s, v_num=1]#015Epoch 1: 100%|██████████| 20/20 [00:00<00:00, 120.87it/s, v_num=1]\n",
      "#015Validation: |          | 0/? [00:00<?, ?it/s]#033[A\n",
      "#015Validation:   0%|          | 0/3 [00:00<?, ?it/s]#033[A\n",
      "#015Validation DataLoader 0:   0%|          | 0/3 [00:00<?, ?it/s]#033[A\n",
      "#015Validation DataLoader 0:  33%|███▎      | 1/3 [00:00<00:00, 499.98it/s]#033[A\n",
      "#015Validation DataLoader 0:  67%|██████▋   | 2/3 [00:00<00:00, 441.67it/s]#033[A\n",
      "#015Validation DataLoader 0: 100%|██████████| 3/3 [00:00<00:00, 433.53it/s]#033[A\n",
      "#015                                                                       #033[A#015Epoch 1: 100%|██████████| 20/20 [00:00<00:00, 74.75it/s, v_num=1] #015Epoch 1: 100%|██████████| 20/20 [00:00<00:00, 74.55it/s, v_num=1]#015Epoch 1:   0%|          | 0/20 [00:00<?, ?it/s, v_num=1]         #015Epoch 2:   0%|          | 0/20 [00:00<?, ?it/s, v_num=1]#015Epoch 2:   5%|▌         | 1/20 [00:00<00:02,  8.46it/s, v_num=1]#015Epoch 2:   5%|▌         | 1/20 [00:00<00:02,  8.43it/s, v_num=1]#015Epoch 2:  10%|█         | 2/20 [00:00<00:01, 16.47it/s, v_num=1]#015Epoch 2:  10%|█         | 2/20 [00:00<00:01, 16.43it/s, v_num=1]#015Epoch 2:  15%|█▌        | 3/20 [00:00<00:00, 22.24it/s, v_num=1]#015Epoch 2:  15%|█▌        | 3/20 [00:00<00:00, 22.20it/s, v_num=1]#015Epoch 2:  20%|██        | 4/20 [00:00<00:00, 28.89it/s, v_num=1]#015Epoch 2:  20%|██        | 4/20 [00:00<00:00, 28.82it/s, v_num=1]#015Epoch 2:  25%|██▌       | 5/20 [00:00<00:00, 35.20it/s, v_num=1]#015Epoch 2:  25%|██▌       | 5/20 [00:00<00:00, 35.14it/s, v_num=1]#015Epoch 2:  30%|███       | 6/20 [00:00<00:00, 41.51it/s, v_num=1]#015Epoch 2:  30%|███       | 6/20 [00:00<00:00, 41.43it/s, v_num=1]#015Epoch 2:  35%|███▌      | 7/20 [00:00<00:00, 47.58it/s, v_num=1]#015Epoch 2:  35%|███▌      | 7/20 [00:00<00:00, 47.50it/s, v_num=1]#015Epoch 2:  40%|████      | 8/20 [00:00<00:00, 52.29it/s, v_num=1]#015Epoch 2:  40%|████      | 8/20 [00:00<00:00, 52.20it/s, v_num=1]#015Epoch 2:  45%|████▌     | 9/20 [00:00<00:00, 57.85it/s, v_num=1]#015Epoch 2:  45%|████▌     | 9/20 [00:00<00:00, 57.76it/s, v_num=1]#015Epoch 2:  50%|█████     | 10/20 [00:00<00:00, 63.20it/s, v_num=1]#015Epoch 2:  50%|█████     | 10/20 [00:00<00:00, 63.10it/s, v_num=1]#015Epoch 2:  55%|█████▌    | 11/20 [00:00<00:00, 68.44it/s, v_num=1]#015Epoch 2:  55%|█████▌    | 11/20 [00:00<00:00, 68.33it/s, v_num=1]#015Epoch 2:  60%|██████    | 12/20 [00:00<00:00, 73.49it/s, v_num=1]#015Epoch 2:  60%|██████    | 12/20 [00:00<00:00, 73.37it/s, v_num=1]#015Epoch 2:  65%|██████▌   | 13/20 [00:00<00:00, 78.39it/s, v_num=1]#015Epoch 2:  65%|██████▌   | 13/20 [00:00<00:00, 78.26it/s, v_num=1]#015Epoch 2:  70%|███████   | 14/20 [00:00<00:00, 83.17it/s, v_num=1]#015Epoch 2:  70%|███████   | 14/20 [00:00<00:00, 83.04it/s, v_num=1]#015Epoch 2:  75%|███████▌  | 15/20 [00:00<00:00, 87.78it/s, v_num=1]#015Epoch 2:  75%|███████▌  | 15/20 [00:00<00:00, 87.65it/s, v_num=1]#015Epoch 2:  80%|████████  | 16/20 [00:00<00:00, 91.60it/s, v_num=1]#015Epoch 2:  80%|████████  | 16/20 [00:00<00:00, 91.46it/s, v_num=1]#015Epoch 2:  85%|████████▌ | 17/20 [00:00<00:00, 95.33it/s, v_num=1]#015Epoch 2:  85%|████████▌ | 17/20 [00:00<00:00, 95.19it/s, v_num=1]#015Epoch 2:  90%|█████████ | 18/20 [00:00<00:00, 98.97it/s, v_num=1]#015Epoch 2:  90%|█████████ | 18/20 [00:00<00:00, 98.83it/s, v_num=1]#015Epoch 2:  95%|█████████▌| 19/20 [00:00<00:00, 102.47it/s, v_num=1]#015Epoch 2:  95%|█████████▌| 19/20 [00:00<00:00, 102.30it/s, v_num=1]#015Epoch 2: 100%|██████████| 20/20 [00:00<00:00, 105.82it/s, v_num=1]#015Epoch 2: 100%|██████████| 20/20 [00:00<00:00, 105.68it/s, v_num=1]\n",
      "#015Validation: |          | 0/? [00:00<?, ?it/s]#033[A\n",
      "#015Validation:   0%|          | 0/3 [00:00<?, ?it/s]#033[A\n",
      "#015Validation DataLoader 0:   0%|          | 0/3 [00:00<?, ?it/s]#033[A\n",
      "#015Validation DataLoader 0:  33%|███▎      | 1/3 [00:00<00:00, 495.08it/s]#033[A\n",
      "#015Validation DataLoader 0:  67%|██████▋   | 2/3 [00:00<00:00, 437.36it/s]#033[A\n",
      "#015Validation DataLoader 0: 100%|██████████| 3/3 [00:00<00:00, 412.32it/s]#033[A\n",
      "`Trainer.fit` stopped: `max_epochs=3` reached.\n",
      "[I 2023-12-11 15:31:25,141] Trial 1 finished with value: 9470.0126953125 and parameters: {'n_layers': 1, 'dropout': 0.48554980682214094, 'learning_rate': 0.09271748129615266, 'n_units_l0': 10}. Best is trial 1 with value: 9470.0126953125.\n",
      "Seed set to 42\n",
      "GPU available: False, used: False\n",
      "TPU available: False, using: 0 TPU cores\n",
      "IPU available: False, using: 0 IPUs\n",
      "HPU available: False, using: 0 HPUs\n",
      "  | Name   | Type       | Params\n",
      "--------------------------------------\n",
      "0 | layers | Sequential | 29    \n",
      "--------------------------------------\n",
      "29        Trainable params\n",
      "0         Non-trainable params\n",
      "29        Total params\n",
      "0.000     Total estimated model params size (MB)\n",
      "#015                                                                       #033[A#015Epoch 2: 100%|██████████| 20/20 [00:00<00:00, 68.21it/s, v_num=1] #015Epoch 2: 100%|██████████| 20/20 [00:00<00:00, 68.03it/s, v_num=1]#015Epoch 2: 100%|██████████| 20/20 [00:00<00:00, 67.55it/s, v_num=1]\n",
      "#015Sanity Checking: |          | 0/? [00:00<?, ?it/s]#015Sanity Checking:   0%|          | 0/2 [00:00<?, ?it/s]#015Sanity Checking DataLoader 0:   0%|          | 0/2 [00:00<?, ?it/s]#015Sanity Checking DataLoader 0:  50%|█████     | 1/2 [00:00<00:00, 258.60it/s]#015Sanity Checking DataLoader 0: 100%|██████████| 2/2 [00:00<00:00, 318.80it/s]#015                                                                            #015#015Training: |          | 0/? [00:00<?, ?it/s]#015Training:   0%|          | 0/20 [00:00<?, ?it/s]#015Epoch 0:   0%|          | 0/20 [00:00<?, ?it/s] #015Epoch 0:   5%|▌         | 1/20 [00:00<00:00, 88.03it/s]#015Epoch 0:   5%|▌         | 1/20 [00:00<00:00, 85.51it/s, v_num=2]#015Epoch 0:  10%|█         | 2/20 [00:00<00:00, 129.59it/s, v_num=2]#015Epoch 0:  10%|█         | 2/20 [00:00<00:00, 127.46it/s, v_num=2]#015Epoch 0:  15%|█▌        | 3/20 [00:00<00:00, 143.21it/s, v_num=2]#015Epoch 0:  15%|█▌        | 3/20 [00:00<00:00, 141.44it/s, v_num=2]#015Epoch 0:  20%|██        | 4/20 [00:00<00:00, 136.48it/s, v_num=2]#015Epoch 0:  20%|██        | 4/20 [00:00<00:00, 135.24it/s, v_num=2]#015Epoch 0:  25%|██▌       | 5/20 [00:00<00:00, 125.37it/s, v_num=2]#015Epoch 0:  25%|██▌       | 5/20 [00:00<00:00, 124.56it/s, v_num=2]#015Epoch 0:  30%|███       | 6/20 [00:00<00:00, 141.60it/s, v_num=2]#015Epoch 0:  30%|███       | 6/20 [00:00<00:00, 140.75it/s, v_num=2]#015Epoch 0:  35%|███▌      | 7/20 [00:00<00:00, 156.08it/s, v_num=2]#015Epoch 0:  35%|███▌      | 7/20 [00:00<00:00, 155.19it/s, v_num=2]#015Epoch 0:  40%|████      | 8/20 [00:00<00:00, 169.11it/s, v_num=2]#015Epoch 0:  40%|████      | 8/20 [00:00<00:00, 168.21it/s, v_num=2]#015Epoch 0:  45%|████▌     | 9/20 [00:00<00:00, 180.58it/s, v_num=2]#015Epoch 0:  45%|████▌     | 9/20 [00:00<00:00, 179.66it/s, v_num=2]#015Epoch 0:  50%|█████     | 10/20 [00:00<00:00, 191.27it/s, v_num=2]#015Epoch 0:  50%|█████     | 10/20 [00:00<00:00, 190.34it/s, v_num=2]#015Epoch 0:  55%|█████▌    | 11/20 [00:00<00:00, 200.89it/s, v_num=2]#015Epoch 0:  55%|█████▌    | 11/20 [00:00<00:00, 199.98it/s, v_num=2]#015Epoch 0:  60%|██████    | 12/20 [00:00<00:00, 209.74it/s, v_num=2]#015Epoch 0:  60%|██████    | 12/20 [00:00<00:00, 208.86it/s, v_num=2]#015Epoch 0:  65%|██████▌   | 13/20 [00:00<00:00, 213.96it/s, v_num=2]#015Epoch 0:  65%|██████▌   | 13/20 [00:00<00:00, 213.05it/s, v_num=2]#015Epoch 0:  70%|███████   | 14/20 [00:00<00:00, 221.60it/s, v_num=2]#015Epoch 0:  70%|███████   | 14/20 [00:00<00:00, 220.66it/s, v_num=2]#015Epoch 0:  75%|███████▌  | 15/20 [00:00<00:00, 228.47it/s, v_num=2]#015Epoch 0:  75%|███████▌  | 15/20 [00:00<00:00, 227.61it/s, v_num=2]#015Epoch 0:  80%|████████  | 16/20 [00:00<00:00, 234.90it/s, v_num=2]#015Epoch 0:  80%|████████  | 16/20 [00:00<00:00, 233.86it/s, v_num=2]#015Epoch 0:  85%|████████▌ | 17/20 [00:00<00:00, 240.92it/s, v_num=2]#015Epoch 0:  85%|████████▌ | 17/20 [00:00<00:00, 240.09it/s, v_num=2]#015Epoch 0:  90%|█████████ | 18/20 [00:00<00:00, 246.31it/s, v_num=2]#015Epoch 0:  90%|█████████ | 18/20 [00:00<00:00, 245.48it/s, v_num=2]#015Epoch 0:  95%|█████████▌| 19/20 [00:00<00:00, 247.95it/s, v_num=2]#015Epoch 0:  95%|█████████▌| 19/20 [00:00<00:00, 247.14it/s, v_num=2]#015Epoch 0: 100%|██████████| 20/20 [00:00<00:00, 249.78it/s, v_num=2]#015Epoch 0: 100%|██████████| 20/20 [00:00<00:00, 248.90it/s, v_num=2]\n",
      "#015Validation: |          | 0/? [00:00<?, ?it/s]#033[A\n",
      "#015Validation:   0%|          | 0/3 [00:00<?, ?it/s]#033[A\n",
      "#015Validation DataLoader 0:   0%|          | 0/3 [00:00<?, ?it/s]#033[A\n",
      "#015Validation DataLoader 0:  33%|███▎      | 1/3 [00:00<00:00, 507.78it/s]#033[A\n",
      "#015Validation DataLoader 0:  67%|██████▋   | 2/3 [00:00<00:00, 613.29it/s]#033[A\n",
      "#015Validation DataLoader 0: 100%|██████████| 3/3 [00:00<00:00, 533.20it/s]#033[A\n",
      "#015                                                                       #033[A#015Epoch 0: 100%|██████████| 20/20 [00:00<00:00, 111.45it/s, v_num=2]#015Epoch 0: 100%|██████████| 20/20 [00:00<00:00, 110.98it/s, v_num=2]#015Epoch 0:   0%|          | 0/20 [00:00<?, ?it/s, v_num=2]          #015Epoch 1:   0%|          | 0/20 [00:00<?, ?it/s, v_num=2]#015Epoch 1:   5%|▌         | 1/20 [00:00<00:01, 10.17it/s, v_num=2]#015Epoch 1:   5%|▌         | 1/20 [00:00<00:01, 10.12it/s, v_num=2]#015Epoch 1:  10%|█         | 2/20 [00:00<00:00, 19.70it/s, v_num=2]#015Epoch 1:  10%|█         | 2/20 [00:00<00:00, 19.65it/s, v_num=2]#015Epoch 1:  15%|█▌        | 3/20 [00:00<00:00, 28.44it/s, v_num=2]#015Epoch 1:  15%|█▌        | 3/20 [00:00<00:00, 28.37it/s, v_num=2]#015Epoch 1:  20%|██        | 4/20 [00:00<00:00, 36.11it/s, v_num=2]#015Epoch 1:  20%|██        | 4/20 [00:00<00:00, 36.03it/s, v_num=2]#015Epoch 1:  25%|██▌       | 5/20 [00:00<00:00, 44.14it/s, v_num=2]#015Epoch 1:  25%|██▌       | 5/20 [00:00<00:00, 44.05it/s, v_num=2]#015Epoch 1:  30%|███       | 6/20 [00:00<00:00, 51.30it/s, v_num=2]#015Epoch 1:  30%|███       | 6/20 [00:00<00:00, 51.20it/s, v_num=2]#015Epoch 1:  35%|███▌      | 7/20 [00:00<00:00, 55.43it/s, v_num=2]#015Epoch 1:  35%|███▌      | 7/20 [00:00<00:00, 55.31it/s, v_num=2]#015Epoch 1:  40%|████      | 8/20 [00:00<00:00, 61.59it/s, v_num=2]#015Epoch 1:  40%|████      | 8/20 [00:00<00:00, 61.45it/s, v_num=2]#015Epoch 1:  45%|████▌     | 9/20 [00:00<00:00, 67.98it/s, v_num=2]#015Epoch 1:  45%|████▌     | 9/20 [00:00<00:00, 67.85it/s, v_num=2]#015Epoch 1:  50%|█████     | 10/20 [00:00<00:00, 74.15it/s, v_num=2]#015Epoch 1:  50%|█████     | 10/20 [00:00<00:00, 74.01it/s, v_num=2]#015Epoch 1:  55%|█████▌    | 11/20 [00:00<00:00, 80.14it/s, v_num=2]#015Epoch 1:  55%|█████▌    | 11/20 [00:00<00:00, 79.99it/s, v_num=2]#015Epoch 1:  60%|██████    | 12/20 [00:00<00:00, 85.84it/s, v_num=2]#015Epoch 1:  60%|██████    | 12/20 [00:00<00:00, 85.69it/s, v_num=2]#015Epoch 1:  65%|██████▌   | 13/20 [00:00<00:00, 91.35it/s, v_num=2]#015Epoch 1:  65%|██████▌   | 13/20 [00:00<00:00, 91.19it/s, v_num=2]#015Epoch 1:  70%|███████   | 14/20 [00:00<00:00, 96.74it/s, v_num=2]#015Epoch 1:  70%|███████   | 14/20 [00:00<00:00, 96.58it/s, v_num=2]#015Epoch 1:  75%|███████▌  | 15/20 [00:00<00:00, 101.20it/s, v_num=2]#015Epoch 1:  75%|███████▌  | 15/20 [00:00<00:00, 101.03it/s, v_num=2]#015Epoch 1:  80%|████████  | 16/20 [00:00<00:00, 105.45it/s, v_num=2]#015Epoch 1:  80%|████████  | 16/20 [00:00<00:00, 105.28it/s, v_num=2]#015Epoch 1:  85%|████████▌ | 17/20 [00:00<00:00, 109.52it/s, v_num=2]#015Epoch 1:  85%|████████▌ | 17/20 [00:00<00:00, 109.35it/s, v_num=2]#015Epoch 1:  90%|█████████ | 18/20 [00:00<00:00, 113.39it/s, v_num=2]#015Epoch 1:  90%|█████████ | 18/20 [00:00<00:00, 113.21it/s, v_num=2]#015Epoch 1:  95%|█████████▌| 19/20 [00:00<00:00, 116.79it/s, v_num=2]#015Epoch 1:  95%|█████████▌| 19/20 [00:00<00:00, 116.60it/s, v_num=2]#015Epoch 1: 100%|██████████| 20/20 [00:00<00:00, 120.29it/s, v_num=2]#015Epoch 1: 100%|██████████| 20/20 [00:00<00:00, 120.10it/s, v_num=2]\n",
      "#015Validation: |          | 0/? [00:00<?, ?it/s]#033[A\n",
      "#015Validation:   0%|          | 0/3 [00:00<?, ?it/s]#033[A\n",
      "#015Validation DataLoader 0:   0%|          | 0/3 [00:00<?, ?it/s]#033[A\n",
      "#015Validation DataLoader 0:  33%|███▎      | 1/3 [00:00<00:00, 485.23it/s]#033[A\n",
      "#015Validation DataLoader 0:  67%|██████▋   | 2/3 [00:00<00:00, 585.76it/s]#033[A\n",
      "#015Validation DataLoader 0: 100%|██████████| 3/3 [00:00<00:00, 511.29it/s]#033[A\n",
      "#015                                                                       #033[A#015Epoch 1: 100%|██████████| 20/20 [00:00<00:00, 75.41it/s, v_num=2] #015Epoch 1: 100%|██████████| 20/20 [00:00<00:00, 75.20it/s, v_num=2]#015Epoch 1:   0%|          | 0/20 [00:00<?, ?it/s, v_num=2]         #015Epoch 2:   0%|          | 0/20 [00:00<?, ?it/s, v_num=2]#015Epoch 2:   5%|▌         | 1/20 [00:00<00:01, 10.05it/s, v_num=2]#015Epoch 2:   5%|▌         | 1/20 [00:00<00:01, 10.01it/s, v_num=2]#015Epoch 2:  10%|█         | 2/20 [00:00<00:00, 19.24it/s, v_num=2]#015Epoch 2:  10%|█         | 2/20 [00:00<00:00, 19.19it/s, v_num=2]#015Epoch 2:  15%|█▌        | 3/20 [00:00<00:00, 27.74it/s, v_num=2]#015Epoch 2:  15%|█▌        | 3/20 [00:00<00:00, 27.68it/s, v_num=2]#015Epoch 2:  20%|██        | 4/20 [00:00<00:00, 35.50it/s, v_num=2]#015Epoch 2:  20%|██        | 4/20 [00:00<00:00, 35.41it/s, v_num=2]#015Epoch 2:  25%|██▌       | 5/20 [00:00<00:00, 42.82it/s, v_num=2]#015Epoch 2:  25%|██▌       | 5/20 [00:00<00:00, 42.72it/s, v_num=2]#015Epoch 2:  30%|███       | 6/20 [00:00<00:00, 49.19it/s, v_num=2]#015Epoch 2:  30%|███       | 6/20 [00:00<00:00, 49.09it/s, v_num=2]#015Epoch 2:  35%|███▌      | 7/20 [00:00<00:00, 53.90it/s, v_num=2]#015Epoch 2:  35%|███▌      | 7/20 [00:00<00:00, 53.78it/s, v_num=2]#015Epoch 2:  40%|████      | 8/20 [00:00<00:00, 58.92it/s, v_num=2]#015Epoch 2:  40%|████      | 8/20 [00:00<00:00, 58.80it/s, v_num=2]#015Epoch 2:  45%|████▌     | 9/20 [00:00<00:00, 65.03it/s, v_num=2]#015Epoch 2:  45%|████▌     | 9/20 [00:00<00:00, 64.90it/s, v_num=2]#015Epoch 2:  50%|█████     | 10/20 [00:00<00:00, 70.96it/s, v_num=2]#015Epoch 2:  50%|█████     | 10/20 [00:00<00:00, 70.83it/s, v_num=2]#015Epoch 2:  55%|█████▌    | 11/20 [00:00<00:00, 76.62it/s, v_num=2]#015Epoch 2:  55%|█████▌    | 11/20 [00:00<00:00, 76.48it/s, v_num=2]#015Epoch 2:  60%|██████    | 12/20 [00:00<00:00, 82.13it/s, v_num=2]#015Epoch 2:  60%|██████    | 12/20 [00:00<00:00, 81.97it/s, v_num=2]#015Epoch 2:  65%|██████▌   | 13/20 [00:00<00:00, 87.46it/s, v_num=2]#015Epoch 2:  65%|██████▌   | 13/20 [00:00<00:00, 87.30it/s, v_num=2]#015Epoch 2:  70%|███████   | 14/20 [00:00<00:00, 92.57it/s, v_num=2]#015Epoch 2:  70%|███████   | 14/20 [00:00<00:00, 92.41it/s, v_num=2]#015Epoch 2:  75%|███████▌  | 15/20 [00:00<00:00, 97.56it/s, v_num=2]#015Epoch 2:  75%|███████▌  | 15/20 [00:00<00:00, 97.39it/s, v_num=2]#015Epoch 2:  80%|████████  | 16/20 [00:00<00:00, 101.67it/s, v_num=2]#015Epoch 2:  80%|████████  | 16/20 [00:00<00:00, 101.50it/s, v_num=2]#015Epoch 2:  85%|████████▌ | 17/20 [00:00<00:00, 105.56it/s, v_num=2]#015Epoch 2:  85%|████████▌ | 17/20 [00:00<00:00, 105.39it/s, v_num=2]#015Epoch 2:  90%|█████████ | 18/20 [00:00<00:00, 109.20it/s, v_num=2]#015Epoch 2:  90%|█████████ | 18/20 [00:00<00:00, 109.02it/s, v_num=2]#015Epoch 2:  95%|█████████▌| 19/20 [00:00<00:00, 112.68it/s, v_num=2]#015Epoch 2:  95%|█████████▌| 19/20 [00:00<00:00, 112.50it/s, v_num=2]#015Epoch 2: 100%|██████████| 20/20 [00:00<00:00, 116.10it/s, v_num=2]#015Epoch 2: 100%|██████████| 20/20 [00:00<00:00, 115.92it/s, v_num=2]\n",
      "#015Validation: |          | 0/? [00:00<?, ?it/s]#033[A\n",
      "#015Validation:   0%|          | 0/3 [00:00<?, ?it/s]#033[A\n",
      "#015Validation DataLoader 0:   0%|          | 0/3 [00:00<?, ?it/s]#033[A\n",
      "#015Validation DataLoader 0:  33%|███▎      | 1/3 [00:00<00:00, 481.33it/s]#033[A\n",
      "#015Validation DataLoader 0:  67%|██████▋   | 2/3 [00:00<00:00, 352.40it/s]#033[A\n",
      "#015Validation DataLoader 0: 100%|██████████| 3/3 [00:00<00:00, 432.54it/s]#033[A\n",
      "`Trainer.fit` stopped: `max_epochs=3` reached.\n",
      "[I 2023-12-11 15:31:26,068] Trial 2 finished with value: 9466.271484375 and parameters: {'n_layers': 1, 'dropout': 0.30360756580571296, 'learning_rate': 0.039614000537039416, 'n_units_l0': 4}. Best is trial 2 with value: 9466.271484375.\n",
      "#015                                                                       #033[A#015Epoch 2: 100%|██████████| 20/20 [00:00<00:00, 73.52it/s, v_num=2] #015Epoch 2: 100%|██████████| 20/20 [00:00<00:00, 73.32it/s, v_num=2]#015Epoch 2: 100%|██████████| 20/20 [00:00<00:00, 72.78it/s, v_num=2]\n",
      "Best trial:\n",
      "  Validation loss: 9466.271484375\n",
      "  Best model's parameters: \n",
      "    n_layers: 1\n",
      "    dropout: 0.30360756580571296\n",
      "    learning_rate: 0.039614000537039416\n",
      "    n_units_l0: 4\n",
      "\n",
      "2023-12-11 15:31:43 Completed - Training job completed\n",
      "Training seconds: 207\n",
      "Billable seconds: 207\n"
     ]
    }
   ],
   "source": [
    "nn_model.fit({\"train\":training_input})"
   ]
  },
  {
   "cell_type": "code",
   "execution_count": null,
   "metadata": {},
   "outputs": [],
   "source": [
    "s3=boto3.client(\"s3\") # Local dev me has S3 access. Could download file.\n",
    "# s3.download_file(\"dataforml\",\"preprocessed/y.csv\",\"rn.csv\")"
   ]
  },
  {
   "cell_type": "code",
   "execution_count": null,
   "metadata": {},
   "outputs": [],
   "source": [
    "Need to write out metrics to Sagemaker"
   ]
  },
  {
   "cell_type": "code",
   "execution_count": null,
   "metadata": {},
   "outputs": [],
   "source": []
  }
 ],
 "metadata": {
  "kernelspec": {
   "display_name": "aws_sagemaker",
   "language": "python",
   "name": "python3"
  },
  "language_info": {
   "codemirror_mode": {
    "name": "ipython",
    "version": 3
   },
   "file_extension": ".py",
   "mimetype": "text/x-python",
   "name": "python",
   "nbconvert_exporter": "python",
   "pygments_lexer": "ipython3",
   "version": "3.9.0"
  }
 },
 "nbformat": 4,
 "nbformat_minor": 2
}

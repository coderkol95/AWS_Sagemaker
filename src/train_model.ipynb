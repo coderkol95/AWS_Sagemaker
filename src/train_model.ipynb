{
 "cells": [
  {
   "cell_type": "code",
   "execution_count": null,
   "metadata": {},
   "outputs": [],
   "source": [
    "# Define IAM role\n",
    "import boto3\n",
    "import re\n",
    "import os\n",
    "import sagemaker"
   ]
  },
  {
   "cell_type": "code",
   "execution_count": null,
   "metadata": {},
   "outputs": [],
   "source": [
    "sagemaker_session = sagemaker.Session()\n",
    "bucket = 's3://dataforml/preprocessed'\n",
    "role = 'arn:aws:iam::879444378775:role/SagemakerLocalAccess' # Also added EC2 access for accessing custom image"
   ]
  },
  {
   "cell_type": "code",
   "execution_count": null,
   "metadata": {},
   "outputs": [],
   "source": [
    "# Data should already have been uploaded previously before any modelling would have begun.\n",
    "# Data should be downloaded inside docker container.\n",
    "# data_location = sess.upload_data(path=, bucket=)\n",
    "\n",
    "image = f\"879444378775.dkr.ecr.us-east-1.amazonaws.com/model-pipeline:latest\"\n",
    "\n",
    "nn_model = sage.estimator.Estimator(\n",
    "    base_job_name=\"nn_model_dummy\"\n",
    "    image_uri=image,\n",
    "    role=role,\n",
    "    instance_count=1,\n",
    "    instance_type=\"ml.m4.xlarge\",\n",
    "    output_path=f\"s3://dataforml/model-training/output\",\n",
    "    sagemaker_session=sess,\n",
    "    input_mode=\"File\",\n",
    "    hyperparameters={\n",
    "        \"epochs\":2\n",
    "    }\n",
    ")"
   ]
  },
  {
   "cell_type": "code",
   "execution_count": null,
   "metadata": {},
   "outputs": [],
   "source": [
    "training_input=TrainingInput(s3_data=\"s3://dataforml/processed/*\")"
   ]
  },
  {
   "cell_type": "code",
   "execution_count": null,
   "metadata": {},
   "outputs": [],
   "source": [
    "nn_model.fit({\"train\":training_input})"
   ]
  },
  {
   "cell_type": "code",
   "execution_count": null,
   "metadata": {},
   "outputs": [],
   "source": []
  }
 ],
 "metadata": {
  "language_info": {
   "name": "python"
  }
 },
 "nbformat": 4,
 "nbformat_minor": 2
}

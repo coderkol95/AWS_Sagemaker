{
 "cells": [
  {
   "cell_type": "code",
   "execution_count": 1,
   "metadata": {},
   "outputs": [
    {
     "name": "stdout",
     "output_type": "stream",
     "text": [
      "sagemaker.config INFO - Not applying SDK defaults from location: /opt/homebrew/share/sagemaker/config.yaml\n",
      "sagemaker.config INFO - Not applying SDK defaults from location: /Users/anupam/Library/Application Support/sagemaker/config.yaml\n"
     ]
    }
   ],
   "source": [
    "# Define IAM role\n",
    "import boto3\n",
    "import re\n",
    "import os\n",
    "import sagemaker\n",
    "import json"
   ]
  },
  {
   "cell_type": "code",
   "execution_count": 2,
   "metadata": {},
   "outputs": [
    {
     "name": "stdout",
     "output_type": "stream",
     "text": [
      "sagemaker.config INFO - Not applying SDK defaults from location: /opt/homebrew/share/sagemaker/config.yaml\n",
      "sagemaker.config INFO - Not applying SDK defaults from location: /Users/anupam/Library/Application Support/sagemaker/config.yaml\n"
     ]
    }
   ],
   "source": [
    "sess = sagemaker.Session()\n",
    "config=json.load(open(\"../.keys.json\"))\n",
    "role = config[\"SAGEMAKER_ARN\"] # Also added EC2 access for accessing custom image"
   ]
  },
  {
   "cell_type": "code",
   "execution_count": 3,
   "metadata": {},
   "outputs": [],
   "source": [
    "# Data should be downloaded inside docker container.\n",
    "\n",
    "image = config[\"TRAINING_IMAGE\"]\n",
    "\n",
    "nn_model = sagemaker.estimator.Estimator(\n",
    "    base_job_name=\"nn-model-dummy\",\n",
    "    image_uri=image,\n",
    "    role=role,\n",
    "    instance_count=1,\n",
    "    instance_type=\"ml.m4.xlarge\",\n",
    "    output_path=f\"s3://dataforml/model-training/output\",\n",
    "    sagemaker_session=sess,\n",
    "    input_mode=\"File\",\n",
    "    hyperparameters={\n",
    "        \"epochs\":2\n",
    "    }\n",
    ")"
   ]
  },
  {
   "cell_type": "code",
   "execution_count": 4,
   "metadata": {},
   "outputs": [],
   "source": [
    "training_input=sagemaker.estimator.TrainingInput(s3_data=\"s3://dataforml/preprocessed/\")"
   ]
  },
  {
   "cell_type": "code",
   "execution_count": 5,
   "metadata": {},
   "outputs": [
    {
     "name": "stderr",
     "output_type": "stream",
     "text": [
      "INFO:sagemaker:Creating training-job with name: nn-model-dummy-2023-12-11-14-55-24-618\n"
     ]
    },
    {
     "name": "stdout",
     "output_type": "stream",
     "text": [
      "2023-12-11 14:55:26 Starting - Starting the training job......\n",
      "2023-12-11 14:56:08 Starting - Preparing the instances for training.."
     ]
    }
   ],
   "source": [
    "nn_model.fit({\"train\":training_input})"
   ]
  },
  {
   "cell_type": "markdown",
   "metadata": {},
   "source": [
    "Added AmazonS3FullAccess permission to SagemakerLocalAccess Policy"
   ]
  },
  {
   "cell_type": "code",
   "execution_count": null,
   "metadata": {},
   "outputs": [],
   "source": [
    "s3=boto3.client(\"s3\") # Local dev me has S3 access. Could download file."
   ]
  },
  {
   "cell_type": "code",
   "execution_count": null,
   "metadata": {},
   "outputs": [],
   "source": [
    "s3.download_file(\"dataforml\",\"preprocessed/y.csv\",\"rn.csv\")"
   ]
  },
  {
   "cell_type": "code",
   "execution_count": null,
   "metadata": {},
   "outputs": [],
   "source": []
  }
 ],
 "metadata": {
  "kernelspec": {
   "display_name": "aws_sagemaker",
   "language": "python",
   "name": "python3"
  },
  "language_info": {
   "codemirror_mode": {
    "name": "ipython",
    "version": 3
   },
   "file_extension": ".py",
   "mimetype": "text/x-python",
   "name": "python",
   "nbconvert_exporter": "python",
   "pygments_lexer": "ipython3",
   "version": "3.9.0"
  }
 },
 "nbformat": 4,
 "nbformat_minor": 2
}

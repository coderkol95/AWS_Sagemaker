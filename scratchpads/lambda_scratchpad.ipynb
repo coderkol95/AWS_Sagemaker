{
 "cells": [
  {
   "cell_type": "code",
   "execution_count": 1,
   "metadata": {},
   "outputs": [],
   "source": [
    "import boto3\n",
    "with open(\"../.keys.txt\",'r') as f:\n",
    "    AK=f.readline()[:-1] # To remove the newline character\n",
    "    SK=f.readline()[:-1] # To remove the newline character\n",
    "    S3_REGION=f.readline()"
   ]
  },
  {
   "cell_type": "code",
   "execution_count": 2,
   "metadata": {},
   "outputs": [],
   "source": [
    "lambda_f = boto3.client('lambda',\n",
    "                      aws_access_key_id=AK,\n",
    "aws_secret_access_key=SK,\n",
    "region_name=S3_REGION)"
   ]
  },
  {
   "cell_type": "code",
   "execution_count": 3,
   "metadata": {},
   "outputs": [
    {
     "ename": "ClientError",
     "evalue": "An error occurred (AccessDeniedException) when calling the CreateFunction operation: User: arn:aws:iam::879444378775:user/local-dev-me is not authorized to perform: lambda:CreateFunction on resource: arn:aws:lambda:us-east-1:879444378775:function:data-pipe because no identity-based policy allows the lambda:CreateFunction action",
     "output_type": "error",
     "traceback": [
      "\u001b[0;31m---------------------------------------------------------------------------\u001b[0m",
      "\u001b[0;31mClientError\u001b[0m                               Traceback (most recent call last)",
      "\u001b[1;32m/Users/anupam/Documents/Codebase/Studies/AWS Sagemaker/scratchpads/lambda_scratchpad.ipynb Cell 3\u001b[0m line \u001b[0;36m1\n\u001b[0;32m----> <a href='vscode-notebook-cell:/Users/anupam/Documents/Codebase/Studies/AWS%20Sagemaker/scratchpads/lambda_scratchpad.ipynb#W2sZmlsZQ%3D%3D?line=0'>1</a>\u001b[0m lambda_f\u001b[39m.\u001b[39;49mcreate_function(\n\u001b[1;32m      <a href='vscode-notebook-cell:/Users/anupam/Documents/Codebase/Studies/AWS%20Sagemaker/scratchpads/lambda_scratchpad.ipynb#W2sZmlsZQ%3D%3D?line=1'>2</a>\u001b[0m     FunctionName\u001b[39m=\u001b[39;49m\u001b[39m\"\u001b[39;49m\u001b[39mdata-pipe\u001b[39;49m\u001b[39m\"\u001b[39;49m,\n\u001b[1;32m      <a href='vscode-notebook-cell:/Users/anupam/Documents/Codebase/Studies/AWS%20Sagemaker/scratchpads/lambda_scratchpad.ipynb#W2sZmlsZQ%3D%3D?line=2'>3</a>\u001b[0m     Runtime\u001b[39m=\u001b[39;49m\u001b[39m\"\u001b[39;49m\u001b[39mpython3.9\u001b[39;49m\u001b[39m\"\u001b[39;49m,\n\u001b[1;32m      <a href='vscode-notebook-cell:/Users/anupam/Documents/Codebase/Studies/AWS%20Sagemaker/scratchpads/lambda_scratchpad.ipynb#W2sZmlsZQ%3D%3D?line=3'>4</a>\u001b[0m     Role\u001b[39m=\u001b[39;49m\u001b[39m\"\u001b[39;49m\u001b[39marn:aws:iam::879444378775:role/S3BucketReadWrite\u001b[39;49m\u001b[39m\"\u001b[39;49m,\n\u001b[1;32m      <a href='vscode-notebook-cell:/Users/anupam/Documents/Codebase/Studies/AWS%20Sagemaker/scratchpads/lambda_scratchpad.ipynb#W2sZmlsZQ%3D%3D?line=4'>5</a>\u001b[0m     Code\u001b[39m=\u001b[39;49m{\u001b[39m\"\u001b[39;49m\u001b[39mImageUri\u001b[39;49m\u001b[39m\"\u001b[39;49m:\u001b[39m\"\u001b[39;49m\u001b[39m879444378775.dkr.ecr.us-east-1.amazonaws.com/data-pipeline:latest\u001b[39;49m\u001b[39m\"\u001b[39;49m},\n\u001b[1;32m      <a href='vscode-notebook-cell:/Users/anupam/Documents/Codebase/Studies/AWS%20Sagemaker/scratchpads/lambda_scratchpad.ipynb#W2sZmlsZQ%3D%3D?line=5'>6</a>\u001b[0m     Publish\u001b[39m=\u001b[39;49m\u001b[39mTrue\u001b[39;49;00m,\n\u001b[1;32m      <a href='vscode-notebook-cell:/Users/anupam/Documents/Codebase/Studies/AWS%20Sagemaker/scratchpads/lambda_scratchpad.ipynb#W2sZmlsZQ%3D%3D?line=6'>7</a>\u001b[0m     PackageType\u001b[39m=\u001b[39;49m\u001b[39m\"\u001b[39;49m\u001b[39mImage\u001b[39;49m\u001b[39m\"\u001b[39;49m\n\u001b[1;32m      <a href='vscode-notebook-cell:/Users/anupam/Documents/Codebase/Studies/AWS%20Sagemaker/scratchpads/lambda_scratchpad.ipynb#W2sZmlsZQ%3D%3D?line=7'>8</a>\u001b[0m )\n",
      "File \u001b[0;32m/opt/homebrew/Caskroom/miniforge/base/envs/aws_sagemaker/lib/python3.9/site-packages/botocore/client.py:535\u001b[0m, in \u001b[0;36mClientCreator._create_api_method.<locals>._api_call\u001b[0;34m(self, *args, **kwargs)\u001b[0m\n\u001b[1;32m    531\u001b[0m     \u001b[39mraise\u001b[39;00m \u001b[39mTypeError\u001b[39;00m(\n\u001b[1;32m    532\u001b[0m         \u001b[39mf\u001b[39m\u001b[39m\"\u001b[39m\u001b[39m{\u001b[39;00mpy_operation_name\u001b[39m}\u001b[39;00m\u001b[39m() only accepts keyword arguments.\u001b[39m\u001b[39m\"\u001b[39m\n\u001b[1;32m    533\u001b[0m     )\n\u001b[1;32m    534\u001b[0m \u001b[39m# The \"self\" in this scope is referring to the BaseClient.\u001b[39;00m\n\u001b[0;32m--> 535\u001b[0m \u001b[39mreturn\u001b[39;00m \u001b[39mself\u001b[39;49m\u001b[39m.\u001b[39;49m_make_api_call(operation_name, kwargs)\n",
      "File \u001b[0;32m/opt/homebrew/Caskroom/miniforge/base/envs/aws_sagemaker/lib/python3.9/site-packages/botocore/client.py:983\u001b[0m, in \u001b[0;36mBaseClient._make_api_call\u001b[0;34m(self, operation_name, api_params)\u001b[0m\n\u001b[1;32m    979\u001b[0m     error_code \u001b[39m=\u001b[39m error_info\u001b[39m.\u001b[39mget(\u001b[39m\"\u001b[39m\u001b[39mQueryErrorCode\u001b[39m\u001b[39m\"\u001b[39m) \u001b[39mor\u001b[39;00m error_info\u001b[39m.\u001b[39mget(\n\u001b[1;32m    980\u001b[0m         \u001b[39m\"\u001b[39m\u001b[39mCode\u001b[39m\u001b[39m\"\u001b[39m\n\u001b[1;32m    981\u001b[0m     )\n\u001b[1;32m    982\u001b[0m     error_class \u001b[39m=\u001b[39m \u001b[39mself\u001b[39m\u001b[39m.\u001b[39mexceptions\u001b[39m.\u001b[39mfrom_code(error_code)\n\u001b[0;32m--> 983\u001b[0m     \u001b[39mraise\u001b[39;00m error_class(parsed_response, operation_name)\n\u001b[1;32m    984\u001b[0m \u001b[39melse\u001b[39;00m:\n\u001b[1;32m    985\u001b[0m     \u001b[39mreturn\u001b[39;00m parsed_response\n",
      "\u001b[0;31mClientError\u001b[0m: An error occurred (AccessDeniedException) when calling the CreateFunction operation: User: arn:aws:iam::879444378775:user/local-dev-me is not authorized to perform: lambda:CreateFunction on resource: arn:aws:lambda:us-east-1:879444378775:function:data-pipe because no identity-based policy allows the lambda:CreateFunction action"
     ]
    }
   ],
   "source": [
    "lambda_f.create_function(\n",
    "    FunctionName=\"data-pipe\",\n",
    "    Runtime=\"python3.9\",\n",
    "    Role=\"arn:aws:iam::879444378775:role/S3BucketReadWrite\",\n",
    "    Code={\"ImageUri\":\"879444378775.dkr.ecr.us-east-1.amazonaws.com/data-pipeline:latest\"},\n",
    "    Publish=True,\n",
    "    PackageType=\"Image\"\n",
    ")"
   ]
  },
  {
   "cell_type": "code",
   "execution_count": null,
   "metadata": {},
   "outputs": [],
   "source": []
  }
 ],
 "metadata": {
  "kernelspec": {
   "display_name": "aws_sagemaker",
   "language": "python",
   "name": "python3"
  },
  "language_info": {
   "codemirror_mode": {
    "name": "ipython",
    "version": 3
   },
   "file_extension": ".py",
   "mimetype": "text/x-python",
   "name": "python",
   "nbconvert_exporter": "python",
   "pygments_lexer": "ipython3",
   "version": "3.9.0"
  }
 },
 "nbformat": 4,
 "nbformat_minor": 2
}

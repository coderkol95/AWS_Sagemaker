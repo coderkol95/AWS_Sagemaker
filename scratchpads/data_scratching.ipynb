{
 "cells": [
  {
   "cell_type": "code",
   "execution_count": null,
   "metadata": {},
   "outputs": [],
   "source": [
    "# Create versioning-enabled buckets and then use them in code"
   ]
  },
  {
   "cell_type": "code",
   "execution_count": 1,
   "metadata": {},
   "outputs": [],
   "source": [
    "import boto3\n",
    "\n",
    "BUCKET_NAME=\"dataforml\""
   ]
  },
  {
   "cell_type": "code",
   "execution_count": 2,
   "metadata": {},
   "outputs": [],
   "source": [
    "s3 = boto3.client(\n",
    "'s3',\n",
    ")"
   ]
  },
  {
   "cell_type": "markdown",
   "metadata": {},
   "source": [
    "# Listing buckets and deleting buckets"
   ]
  },
  {
   "cell_type": "code",
   "execution_count": null,
   "metadata": {},
   "outputs": [],
   "source": [
    "buckets=s3.list_buckets()['Buckets']\n",
    "buckets"
   ]
  },
  {
   "cell_type": "code",
   "execution_count": null,
   "metadata": {},
   "outputs": [],
   "source": [
    "buckets_to_del=[bucket['Name'] for bucket in buckets if 'sagemaker' in bucket['Name']]\n",
    "buckets_to_del"
   ]
  },
  {
   "cell_type": "code",
   "execution_count": null,
   "metadata": {},
   "outputs": [],
   "source": [
    "for x in buckets_to_del:\n",
    "    s3.delete_bucket(Bucket=f'{x}') "
   ]
  },
  {
   "cell_type": "code",
   "execution_count": null,
   "metadata": {},
   "outputs": [],
   "source": [
    "s3.list_buckets()['Buckets']"
   ]
  },
  {
   "cell_type": "markdown",
   "metadata": {},
   "source": [
    "# Uploading to a bucket and versioning"
   ]
  },
  {
   "cell_type": "code",
   "execution_count": 4,
   "metadata": {},
   "outputs": [],
   "source": [
    "s3.upload_file('../pipelines/model_pipeline/opt/ml/input/data/backup/X.csv',BUCKET_NAME,'raw/X.csv')"
   ]
  },
  {
   "cell_type": "code",
   "execution_count": null,
   "metadata": {},
   "outputs": [],
   "source": [
    "s3.download_file(\n",
    "    BUCKET_NAME,\n",
    "    'random.txt',\n",
    "    'rand1.txt'\n",
    ")"
   ]
  },
  {
   "cell_type": "code",
   "execution_count": null,
   "metadata": {},
   "outputs": [],
   "source": [
    "s3.upload_file('random.txt',BUCKET_NAME,'random.txt')\n",
    "s3.download_file(\n",
    "    BUCKET_NAME,\n",
    "    'random.txt',\n",
    "    'rand2.txt'\n",
    ")"
   ]
  },
  {
   "cell_type": "code",
   "execution_count": null,
   "metadata": {},
   "outputs": [],
   "source": [
    "s3.download_file(\n",
    "    BUCKET_NAME,\n",
    "    'random.txt',\n",
    "    'randx.txt',\n",
    ")"
   ]
  },
  {
   "cell_type": "code",
   "execution_count": null,
   "metadata": {},
   "outputs": [],
   "source": [
    "\"/home/src/file.py\".split(\"/\")[-1]"
   ]
  },
  {
   "cell_type": "code",
   "execution_count": null,
   "metadata": {},
   "outputs": [],
   "source": [
    "import os"
   ]
  },
  {
   "cell_type": "code",
   "execution_count": null,
   "metadata": {},
   "outputs": [],
   "source": [
    "if not os.path.exists('./downloads/'):\n",
    "    os.mkdir('./downloads/')"
   ]
  },
  {
   "cell_type": "code",
   "execution_count": null,
   "metadata": {},
   "outputs": [],
   "source": [
    "import pandas as pd\n",
    "\n",
    "pd.read_csv(\"../MLFlow/data/X.csv\")"
   ]
  },
  {
   "cell_type": "code",
   "execution_count": null,
   "metadata": {},
   "outputs": [],
   "source": [
    "from utils.s3 import s3, BUCKET_NAME,upload,download"
   ]
  },
  {
   "cell_type": "code",
   "execution_count": null,
   "metadata": {},
   "outputs": [],
   "source": [
    "upload(file_path=\"../MLFlow/data/X.csv\",file_name=\"raw/X.csv\")"
   ]
  },
  {
   "cell_type": "code",
   "execution_count": null,
   "metadata": {},
   "outputs": [],
   "source": [
    "from datetime import datetime\n",
    "import re"
   ]
  },
  {
   "cell_type": "code",
   "execution_count": null,
   "metadata": {},
   "outputs": [],
   "source": [
    "dt=str(datetime.now())[:16]\n",
    "re.sub(\"[^0-9]\",\"_\",dt)"
   ]
  },
  {
   "cell_type": "code",
   "execution_count": null,
   "metadata": {},
   "outputs": [],
   "source": [
    "dt"
   ]
  },
  {
   "cell_type": "code",
   "execution_count": 38,
   "metadata": {},
   "outputs": [
    {
     "data": {
      "text/plain": [
       "0    0.057927\n",
       "1   -0.011186\n",
       "2   -0.004265\n",
       "3   -0.067045\n",
       "4    0.012329\n",
       "dtype: object"
      ]
     },
     "execution_count": 38,
     "metadata": {},
     "output_type": "execute_result"
    }
   ],
   "source": [
    "from pipelines.model_pipeline.src.datawork import data_module\n",
    "import pandas as pd\n",
    "dm=data_module(folder=\"pipelines/model_pipeline/opt/ml/input/data/training\")\n",
    "dm.setup()\n",
    "xx=[[j.numpy() for j in i[0]] for i in iter(dm.train_dataset)]\n",
    "pd.DataFrame(xx).mean()"
   ]
  },
  {
   "cell_type": "code",
   "execution_count": 1,
   "metadata": {},
   "outputs": [],
   "source": [
    "from pipelines.model_pipeline.src.datawork import data_module\n",
    "import pandas as pd\n",
    "dm=data_module(folder=\"pipelines/model_pipeline/opt/ml/input/data/training\")\n",
    "dm.setup()\n",
    "xx=[[j.numpy() for j in i[0]] for i in iter(dm.train_dataset)]\n",
    "pd.DataFrame(xx).mean()"
   ]
  },
  {
   "cell_type": "code",
   "execution_count": 2,
   "metadata": {},
   "outputs": [
    {
     "data": {
      "text/plain": [
       "0    0.057927\n",
       "1   -0.011186\n",
       "2   -0.004265\n",
       "3   -0.067045\n",
       "4    0.012329\n",
       "dtype: object"
      ]
     },
     "execution_count": 2,
     "metadata": {},
     "output_type": "execute_result"
    }
   ],
   "source": [
    "pd.DataFrame(xx).mean()"
   ]
  },
  {
   "cell_type": "code",
   "execution_count": 1,
   "metadata": {},
   "outputs": [
    {
     "data": {
      "text/plain": [
       "0    0.057927\n",
       "1   -0.011186\n",
       "2   -0.004265\n",
       "3   -0.067045\n",
       "4    0.012329\n",
       "dtype: object"
      ]
     },
     "execution_count": 1,
     "metadata": {},
     "output_type": "execute_result"
    }
   ],
   "source": [
    "from pipelines.model_pipeline.src.datawork import data_module\n",
    "import pandas as pd\n",
    "dm=data_module(folder=\"pipelines/model_pipeline/opt/ml/input/data/training\")\n",
    "dm.setup()\n",
    "xx=[[j.numpy() for j in i[0]] for i in iter(dm.train_dataset)]\n",
    "pd.DataFrame(xx).mean()"
   ]
  },
  {
   "cell_type": "code",
   "execution_count": 1,
   "metadata": {},
   "outputs": [
    {
     "data": {
      "text/plain": [
       "0    0.057927\n",
       "1   -0.011186\n",
       "2   -0.004265\n",
       "3   -0.067045\n",
       "4    0.012329\n",
       "dtype: object"
      ]
     },
     "execution_count": 1,
     "metadata": {},
     "output_type": "execute_result"
    }
   ],
   "source": [
    "from pipelines.model_pipeline.src.datawork import data_module\n",
    "import pandas as pd\n",
    "dm=data_module(folder=\"pipelines/model_pipeline/opt/ml/input/data/training\")\n",
    "dm.setup()\n",
    "xx=[[j.numpy() for j in i[0]] for i in iter(dm.train_dataset)]\n",
    "pd.DataFrame(xx).mean()"
   ]
  },
  {
   "cell_type": "code",
   "execution_count": 1,
   "metadata": {},
   "outputs": [
    {
     "data": {
      "text/plain": [
       "0    0.057927\n",
       "1   -0.011186\n",
       "2   -0.004265\n",
       "3   -0.067045\n",
       "4    0.012329\n",
       "dtype: object"
      ]
     },
     "execution_count": 1,
     "metadata": {},
     "output_type": "execute_result"
    }
   ],
   "source": [
    "from pipelines.model_pipeline.src.datawork import data_module\n",
    "import pandas as pd\n",
    "dm=data_module(folder=\"pipelines/model_pipeline/opt/ml/input/data/training\")\n",
    "dm.setup()\n",
    "xx=[[j.numpy() for j in i[0]] for i in iter(dm.train_dataset)]\n",
    "pd.DataFrame(xx).mean()"
   ]
  },
  {
   "cell_type": "code",
   "execution_count": null,
   "metadata": {},
   "outputs": [],
   "source": []
  }
 ],
 "metadata": {
  "kernelspec": {
   "display_name": "aws_sagemaker",
   "language": "python",
   "name": "python3"
  },
  "language_info": {
   "codemirror_mode": {
    "name": "ipython",
    "version": 3
   },
   "file_extension": ".py",
   "mimetype": "text/x-python",
   "name": "python",
   "nbconvert_exporter": "python",
   "pygments_lexer": "ipython3",
   "version": "3.9.0"
  }
 },
 "nbformat": 4,
 "nbformat_minor": 2
}
